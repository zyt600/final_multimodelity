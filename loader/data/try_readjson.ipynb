{
 "cells": [
  {
   "cell_type": "code",
   "execution_count": 1,
   "metadata": {
    "collapsed": true,
    "pycharm": {
     "name": "#%%\n"
    }
   },
   "outputs": [],
   "source": [
    "import json\n",
    "import pandas as pd"
   ]
  },
  {
   "cell_type": "code",
   "execution_count": 2,
   "outputs": [],
   "source": [
    "op=open(\"caption.json\")"
   ],
   "metadata": {
    "collapsed": false,
    "pycharm": {
     "name": "#%%\n"
    }
   }
  },
  {
   "cell_type": "code",
   "execution_count": 3,
   "outputs": [],
   "source": [
    "rd = json.load(op)"
   ],
   "metadata": {
    "collapsed": false,
    "pycharm": {
     "name": "#%%\n"
    }
   }
  },
  {
   "cell_type": "code",
   "execution_count": null,
   "outputs": [],
   "source": [
    "print(rd)"
   ],
   "metadata": {
    "collapsed": false,
    "pycharm": {
     "name": "#%%\n"
    }
   }
  },
  {
   "cell_type": "code",
   "execution_count": 2,
   "outputs": [],
   "source": [
    "js=pd.read_json(\"caption.json\")"
   ],
   "metadata": {
    "collapsed": false,
    "pycharm": {
     "name": "#%%\n"
    }
   }
  },
  {
   "cell_type": "code",
   "execution_count": 3,
   "outputs": [
    {
     "name": "stdout",
     "output_type": "stream",
     "text": [
      "<class 'pandas.core.frame.DataFrame'>\n"
     ]
    }
   ],
   "source": [
    "print(type(js))"
   ],
   "metadata": {
    "collapsed": false,
    "pycharm": {
     "name": "#%%\n"
    }
   }
  },
  {
   "cell_type": "code",
   "execution_count": 16,
   "outputs": [
    {
     "name": "stdout",
     "output_type": "stream",
     "text": [
      "Index(['nVbIUDjzWY4', 'CTPAZ2euJ2Q', 'rwmt7Cbuvfs', 'HnTLh99gcxY',\n",
      "       'EyP3HVhg1u0', 'w6zbbdK1ewY', 'RAidUDTPZ-k', 'nssig0FNZVU',\n",
      "       'm2YyhYyleII', 'u5B1RAufWVM',\n",
      "       ...\n",
      "       'KQkZIJiU9Vc', '-mMKtGS0Hgw', 'OdSxWHE0DGY', 'puJLVEATw0k',\n",
      "       '8h7K6E_BUok', 'tVc0qvCeVfQ', 'gIURSGIXX0Y', 'gHTVgMEpR2Q',\n",
      "       '_97kyZVWVG0', 'gkjnR3-ZVts'],\n",
      "      dtype='object', length=1238911)\n"
     ]
    }
   ],
   "source": [
    "print(js.keys())"
   ],
   "metadata": {
    "collapsed": false,
    "pycharm": {
     "name": "#%%\n"
    }
   }
  },
  {
   "cell_type": "code",
   "execution_count": 12,
   "outputs": [
    {
     "name": "stdout",
     "output_type": "stream",
     "text": [
      "       video_id               category_1                     category_2  rank  \\\n",
      "0   1Nqg8_tctxM          Home and Garden  Home Improvements and Repairs   128   \n",
      "1   1OV_CFQPAno       Hobbies and Crafts                         Crafts   186   \n",
      "2   1W4s1_5GV4c       Hobbies and Crafts                           Toys    34   \n",
      "3   1Wfnl-Hh8xI          Home and Garden             Sustainable Living    41   \n",
      "4   1xYnYL_MtzE    Food and Entertaining                        Recipes     6   \n",
      "5   23kdQESCADc       Hobbies and Crafts                         Crafts    28   \n",
      "6   25IJueRU9co       Hobbies and Crafts                           Toys     1   \n",
      "7   298qxjNA7rY       Hobbies and Crafts                          Games    84   \n",
      "8   2efLgQVAIFA                   Health                            NaN    57   \n",
      "9   2MDJSLk--fY  Holidays and Traditions                         Easter    94   \n",
      "10  2vSyedo37p4          Home and Garden                          Tools   169   \n",
      "11  2zrWauoRXFw    Food and Entertaining                        Recipes    84   \n",
      "12  3lOsU9d4eCI          Home and Garden                   Housekeeping    26   \n",
      "13  4JpTjqOPTFg    Food and Entertaining                        Recipes   119   \n",
      "14  4nwSrb8M_DU          Home and Garden          Disaster Preparedness     4   \n",
      "15  4oPyaN2m-v0  Holidays and Traditions                         Easter   138   \n",
      "\n",
      "    task_id  \n",
      "0    110397  \n",
      "1     53137  \n",
      "2     98964  \n",
      "3     18671  \n",
      "4     91096  \n",
      "5      7131  \n",
      "6     74909  \n",
      "7     29981  \n",
      "8      4417  \n",
      "9     55490  \n",
      "10    60241  \n",
      "11    57370  \n",
      "12    86528  \n",
      "13    16668  \n",
      "14    12452  \n",
      "15    55509  \n"
     ]
    }
   ],
   "source": [
    "video_csv=pd.read_csv(\"all_videos.csv\")\n",
    "print(video_csv)"
   ],
   "metadata": {
    "collapsed": false,
    "pycharm": {
     "name": "#%%\n"
    }
   }
  },
  {
   "cell_type": "code",
   "execution_count": 13,
   "outputs": [
    {
     "name": "stdout",
     "output_type": "stream",
     "text": [
      "0     1Nqg8_tctxM\n",
      "1     1OV_CFQPAno\n",
      "2     1W4s1_5GV4c\n",
      "3     1Wfnl-Hh8xI\n",
      "4     1xYnYL_MtzE\n",
      "5     23kdQESCADc\n",
      "6     25IJueRU9co\n",
      "7     298qxjNA7rY\n",
      "8     2efLgQVAIFA\n",
      "9     2MDJSLk--fY\n",
      "10    2vSyedo37p4\n",
      "11    2zrWauoRXFw\n",
      "12    3lOsU9d4eCI\n",
      "13    4JpTjqOPTFg\n",
      "14    4nwSrb8M_DU\n",
      "15    4oPyaN2m-v0\n",
      "Name: video_id, dtype: object\n"
     ]
    }
   ],
   "source": [
    "print(video_csv[\"video_id\"])"
   ],
   "metadata": {
    "collapsed": false,
    "pycharm": {
     "name": "#%%\n"
    }
   }
  },
  {
   "cell_type": "code",
   "execution_count": 14,
   "outputs": [
    {
     "name": "stdout",
     "output_type": "stream",
     "text": [
      "<class 'pandas.core.series.Series'>\n"
     ]
    }
   ],
   "source": [
    "print(type(video_csv[\"video_id\"]))"
   ],
   "metadata": {
    "collapsed": false,
    "pycharm": {
     "name": "#%%\n"
    }
   }
  },
  {
   "cell_type": "code",
   "execution_count": 17,
   "outputs": [
    {
     "name": "stdout",
     "output_type": "stream",
     "text": [
      "1Nqg8_tctxM\n",
      "1OV_CFQPAno\n",
      "1W4s1_5GV4c\n",
      "1Wfnl-Hh8xI\n",
      "1xYnYL_MtzE\n",
      "23kdQESCADc\n",
      "25IJueRU9co\n",
      "298qxjNA7rY\n",
      "2efLgQVAIFA\n",
      "2MDJSLk--fY\n",
      "2vSyedo37p4\n",
      "2zrWauoRXFw\n",
      "3lOsU9d4eCI\n",
      "4JpTjqOPTFg\n",
      "4nwSrb8M_DU\n",
      "4oPyaN2m-v0\n"
     ]
    }
   ],
   "source": [
    "for name in video_csv[\"video_id\"]:\n",
    "    print(name)\n",
    "    entry=js[name]\n",
    "    entry.to_json(name+\".json\")"
   ],
   "metadata": {
    "collapsed": false,
    "pycharm": {
     "name": "#%%\n"
    }
   }
  },
  {
   "cell_type": "code",
   "execution_count": null,
   "outputs": [],
   "source": [],
   "metadata": {
    "collapsed": false,
    "pycharm": {
     "name": "#%%\n"
    }
   }
  }
 ],
 "metadata": {
  "kernelspec": {
   "display_name": "Python 3",
   "language": "python",
   "name": "python3"
  },
  "language_info": {
   "codemirror_mode": {
    "name": "ipython",
    "version": 2
   },
   "file_extension": ".py",
   "mimetype": "text/x-python",
   "name": "python",
   "nbconvert_exporter": "python",
   "pygments_lexer": "ipython2",
   "version": "2.7.6"
  }
 },
 "nbformat": 4,
 "nbformat_minor": 0
}
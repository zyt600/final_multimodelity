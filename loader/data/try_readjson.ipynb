{
 "cells": [
  {
   "cell_type": "code",
   "execution_count": 1,
   "metadata": {
    "collapsed": true,
    "pycharm": {
     "name": "#%%\n"
    }
   },
   "outputs": [],
   "source": [
    "import json\n",
    "import pandas as pd"
   ]
  },
  {
   "cell_type": "code",
   "execution_count": 2,
   "outputs": [],
   "source": [
    "js=pd.read_json(\"caption.json\")"
   ],
   "metadata": {
    "collapsed": false,
    "pycharm": {
     "name": "#%%\n"
    }
   }
  },
  {
   "cell_type": "code",
   "execution_count": 3,
   "outputs": [
    {
     "name": "stdout",
     "output_type": "stream",
     "text": [
      "<class 'pandas.core.frame.DataFrame'>\n"
     ]
    }
   ],
   "source": [
    "print(type(js))"
   ],
   "metadata": {
    "collapsed": false,
    "pycharm": {
     "name": "#%%\n"
    }
   }
  },
  {
   "cell_type": "code",
   "execution_count": 4,
   "outputs": [
    {
     "name": "stdout",
     "output_type": "stream",
     "text": [
      "Index(['nVbIUDjzWY4', 'CTPAZ2euJ2Q', 'rwmt7Cbuvfs', 'HnTLh99gcxY',\n",
      "       'EyP3HVhg1u0', 'w6zbbdK1ewY', 'RAidUDTPZ-k', 'nssig0FNZVU',\n",
      "       'm2YyhYyleII', 'u5B1RAufWVM',\n",
      "       ...\n",
      "       'KQkZIJiU9Vc', '-mMKtGS0Hgw', 'OdSxWHE0DGY', 'puJLVEATw0k',\n",
      "       '8h7K6E_BUok', 'tVc0qvCeVfQ', 'gIURSGIXX0Y', 'gHTVgMEpR2Q',\n",
      "       '_97kyZVWVG0', 'gkjnR3-ZVts'],\n",
      "      dtype='object', length=1238911)\n"
     ]
    }
   ],
   "source": [
    "print(js.keys())"
   ],
   "metadata": {
    "collapsed": false,
    "pycharm": {
     "name": "#%%\n"
    }
   }
  },
  {
   "cell_type": "code",
   "execution_count": 5,
   "outputs": [
    {
     "name": "stdout",
     "output_type": "stream",
     "text": [
      "        video_id             category_1          category_2  rank  task_id\n",
      "0    -BHqKZWuOLQ  Food and Entertaining             Recipes   107    72458\n",
      "1    -FqnqXkjuqs     Hobbies and Crafts         Woodworking   101    47293\n",
      "2    -hIwQsVTrZQ     Hobbies and Crafts              Crafts    84    23064\n",
      "3    -QkDnvyHBxo  Food and Entertaining             Recipes   141    41723\n",
      "4    -SXNND5Ppfs  Food and Entertaining              Drinks    97    43171\n",
      "..           ...                    ...                 ...   ...      ...\n",
      "295  zwMb0iIUYQc     Hobbies and Crafts              Crafts    73    90381\n",
      "296  _3QjGPeLuw0        Home and Garden               Tools   110    13093\n",
      "297  _bctOzNgKK4     Hobbies and Crafts              Crafts   170    42400\n",
      "298  _innWbJFMGQ  Food and Entertaining    Food Preparation   159    16334\n",
      "299  _Xy_f9h-EKA     Sports and Fitness  Outdoor Recreation   116    92642\n",
      "\n",
      "[300 rows x 5 columns]\n"
     ]
    }
   ],
   "source": [
    "video_csv=pd.read_csv(\"all_videos.csv\")\n",
    "print(video_csv)"
   ],
   "metadata": {
    "collapsed": false,
    "pycharm": {
     "name": "#%%\n"
    }
   }
  },
  {
   "cell_type": "code",
   "execution_count": 6,
   "outputs": [
    {
     "name": "stdout",
     "output_type": "stream",
     "text": [
      "0      -BHqKZWuOLQ\n",
      "1      -FqnqXkjuqs\n",
      "2      -hIwQsVTrZQ\n",
      "3      -QkDnvyHBxo\n",
      "4      -SXNND5Ppfs\n",
      "          ...     \n",
      "295    zwMb0iIUYQc\n",
      "296    _3QjGPeLuw0\n",
      "297    _bctOzNgKK4\n",
      "298    _innWbJFMGQ\n",
      "299    _Xy_f9h-EKA\n",
      "Name: video_id, Length: 300, dtype: object\n"
     ]
    }
   ],
   "source": [
    "print(video_csv[\"video_id\"])"
   ],
   "metadata": {
    "collapsed": false,
    "pycharm": {
     "name": "#%%\n"
    }
   }
  },
  {
   "cell_type": "code",
   "execution_count": 7,
   "outputs": [
    {
     "name": "stdout",
     "output_type": "stream",
     "text": [
      "<class 'pandas.core.series.Series'>\n"
     ]
    }
   ],
   "source": [
    "print(type(video_csv[\"video_id\"]))"
   ],
   "metadata": {
    "collapsed": false,
    "pycharm": {
     "name": "#%%\n"
    }
   }
  },
  {
   "cell_type": "code",
   "execution_count": 8,
   "outputs": [
    {
     "name": "stdout",
     "output_type": "stream",
     "text": [
      "-BHqKZWuOLQ\n",
      "-FqnqXkjuqs\n",
      "-hIwQsVTrZQ\n",
      "-QkDnvyHBxo\n",
      "-SXNND5Ppfs\n",
      "-Z1KI6E9Cd4\n",
      "0hnOHccp7fw\n",
      "0izTQrP_9T8\n",
      "0uDzD5o2Coc\n",
      "0vJM2bNuRRM\n",
      "0Y9RLdwUWXY\n",
      "1FqLL7vHzRw\n",
      "1Ldwhhdaa9U\n",
      "1mniqXGb-nM\n",
      "1Nqg8_tctxM\n",
      "1OV_CFQPAno\n",
      "1W4s1_5GV4c\n",
      "1Wfnl-Hh8xI\n",
      "1xYnYL_MtzE\n",
      "23kdQESCADc\n",
      "25IJueRU9co\n",
      "298qxjNA7rY\n",
      "2efLgQVAIFA\n",
      "2MDJSLk--fY\n",
      "2vSyedo37p4\n",
      "2zrWauoRXFw\n",
      "3lOsU9d4eCI\n",
      "4JpTjqOPTFg\n",
      "4nwSrb8M_DU\n",
      "4oPyaN2m-v0\n",
      "4SHhzPsD1tI\n",
      "4zbV1WtOjzY\n",
      "5cT5RggKP0M\n",
      "5geN_Lcw85Q\n",
      "5YiYCMwJtj4\n",
      "63AOp8bVCFo\n",
      "64lUU7Dgfic\n",
      "6p-hPRgOWGw\n",
      "6wln6CUQGmE\n",
      "6x5fhrclbXc\n",
      "6YjK3srdffQ\n",
      "717Wrc9BSYo\n",
      "7EAKTft9fIU\n",
      "7fr5ByQo5TI\n",
      "7kRuuM5oUMs\n",
      "7nGnkzlmO2Q\n",
      "7qpxnjE0Jac\n",
      "7TT_YFxHCP0\n",
      "7X25HkBUKHc\n",
      "821tO17LYvg\n",
      "8jF50kRTPVE\n",
      "8S073Ydim4k\n",
      "94FpNuBxo5Y\n",
      "94OekXTQKK8\n",
      "9dGTiGdJS5o\n",
      "9JeUrd47u9Q\n",
      "A4RvgiOTx3k\n",
      "A9voFRb7OVY\n",
      "abpRptfinRM\n",
      "AKmP6OuzHz8\n",
      "AMHYB22_z9Y\n",
      "aPn7x_A52Bc\n",
      "ax0yaHi4acc\n",
      "B8wBKmUKnOk\n",
      "bcSUvA3EMVk\n",
      "bPDmoCf8hds\n",
      "BpZcM3wmRh8\n",
      "BqkYl7_-mDw\n",
      "brSoKk7OLa4\n",
      "bs-cxcY8GMQ\n",
      "BVp0jid5--U\n",
      "BXDPCViWpnk\n",
      "byjywFlJt9k\n",
      "bZRIQnOo0qk\n",
      "ca2diRsHIhw\n",
      "CM2Xd_RRJo4\n",
      "cMlcHjP9dYI\n",
      "CopgjkXD_V0\n",
      "cRGUjJx27UU\n",
      "csinvdsWWvk\n",
      "cYkLYgS-KzI\n",
      "D7mdFDwN3kM\n",
      "DBfdGFCDQqg\n",
      "DDgxZV6mmAA\n",
      "ddWRZNXNYvc\n",
      "DfhD0a3mZ2c\n",
      "djbeg2o1XNs\n",
      "dQEHVBoxlEI\n",
      "dz-aZ4Du1dk\n",
      "dZj7wiubmjA\n",
      "D_1M0i7u1ew\n",
      "e0cJw0Q8BGU\n",
      "E6wsuo_BNxw\n",
      "EaywQBsnCew\n",
      "edRhIHsLVqA\n",
      "eeO9Jd6Qdv8\n",
      "eSE55ZNEFPc\n",
      "et5FlzCRuGQ\n",
      "EZPp_MbEZas\n",
      "F21xj8lKPZ8\n",
      "fB7nrDcZJog\n",
      "fBNcteuNm9Y\n",
      "FdLDGRK1eUk\n",
      "FlzNDUyvSXk\n",
      "FTeSL8c-AAY\n",
      "Fuw73ZzohRE\n",
      "fyE9a8gejHA\n",
      "g2zx0pDEs9M\n",
      "g8Fp70_BqV0\n",
      "gHfTWcqp28U\n",
      "GirgzLdnYpI\n",
      "GjJ5hhQ2bBY\n",
      "gJOvvv9AX2A\n",
      "gNebrifgIgQ\n",
      "gpqSUJaloic\n",
      "GqtxIhRwfW0\n",
      "GS-hCM8T0Hg\n",
      "GXIYUJM7Ne8\n",
      "GyFWay7ZL90\n",
      "gYJ-0zmXlF8\n",
      "gzqzIojj5bc\n",
      "GzwWawdqdq4\n",
      "hGIc0H0VIRI\n",
      "hiUUVHBTPrE\n",
      "HJie3w2c9tU\n",
      "HkboXxCaE_k\n",
      "hkCMKmvhMwc\n",
      "hN10BVPDq40\n",
      "hob6Rg8mKIs\n",
      "hTVD0AikOYM\n",
      "i9V0x1ZgMbY\n",
      "IC79T154xoA\n",
      "IdZ9P6XdcgM\n",
      "Ie6B26tdoO0\n",
      "IEaNm0P2yJc\n",
      "IfCRKOWfyI4\n",
      "ik18oSLei6s\n",
      "IPUA5viaWZg\n",
      "IsaqwOm9w4I\n",
      "Itcpcnxt92E\n",
      "j-3RRIcQmRE\n",
      "j2_YwylZaDE\n",
      "J6iV4Hx70wU\n",
      "jibyHPhH6qU\n",
      "JLtxnAN7KIA\n",
      "jyNlfK8_d-c\n",
      "K6lcZ41RXaE\n",
      "k8Ut-b6fpJA\n",
      "KaDT3z1scIE\n",
      "kd8eZSplah0\n",
      "KhHChyUtlnY\n",
      "kI3MbYxB9gU\n",
      "KNcfAhYn5GQ\n",
      "KOEYimvaQz4\n",
      "KuyMyU4MFeA\n",
      "L4kJIn0v6ys\n",
      "LiyOPrh6MYw\n",
      "lKaQX9qjuXo\n",
      "LLQ4zf7VHJo\n",
      "LVwnIwpoHrM\n",
      "lz0vTH56ebc\n",
      "lZyiXxXPTLI\n",
      "m18OXrRQp9o\n",
      "M7kTUhDH9UE\n",
      "m8Nf5Te_p2Y\n",
      "M8Q_XKWxj_c\n",
      "MfW30T5DOmI\n",
      "MgPeX_cf7gM\n",
      "mGQt8e7p9o8\n",
      "mM2_Yxz4DZA\n",
      "mpaP815ACks\n",
      "mqPLr384NUQ\n",
      "ms4LGhxy09M\n",
      "N4quJA3Lsvc\n",
      "n5yDLm231gs\n",
      "N7vNeNHz1Dc\n",
      "NCt-DnVlyjU\n",
      "nF9_zFVA2X4\n",
      "Ng-8kved2f0\n",
      "NlDX1UQSHRg\n",
      "nnAimc1J2dI\n",
      "nOh8ShpjKrU\n",
      "NPvc0bJ7GZg\n",
      "NUVXaq-_yN4\n",
      "NWglSMF_07Q\n",
      "nX8LC2CVLYI\n",
      "nxJtjg6PvSw\n",
      "O1UQgZAxZ1g\n",
      "O3mUYti8Q_Y\n",
      "O6SFtlHifjk\n",
      "o7zwGIU0ssE\n",
      "Oe4z0g7bcCA\n",
      "OfLu3UGD66A\n",
      "OiFFaK8U-AI\n",
      "OVBGrquVuVI\n",
      "O_VE0_J_jCc\n",
      "p4PAgxFwlBE\n",
      "p5k4kuTUjI0\n",
      "P5mKU0O-0wA\n",
      "P7JHwSIlNUY\n",
      "PAiacvFJKG4\n",
      "pfZcvLXY8cg\n",
      "ph-_nZdcctU\n",
      "pIfpOMJi81g\n",
      "pSizLwcjVPI\n",
      "pTgX-ptrq0s\n",
      "Q067TwVKBHA\n",
      "QH35AWCnugg\n",
      "QtNmLELlx8g\n",
      "qtY7t0cvtHM\n",
      "qXKLAoBZ6xk\n",
      "QzsmNUvY1eU\n",
      "R-EcbJ9Qosc\n",
      "r-xnhis0cJo\n",
      "r0pb4nZ015s\n",
      "R3hvbtwE3Ho\n",
      "R8Ky_EMI6tk\n",
      "RE4hBly_F7w\n",
      "REUs73XYJfQ\n",
      "rFlyAgpYSIM\n",
      "Ri4PF92YyRw\n",
      "rKgbwrxXiLk\n",
      "RKujhTAU1Qs\n",
      "rm1KB3u3tKs\n",
      "RQGQMn7LaYE\n",
      "RtGYWqx_MYI\n",
      "RY2UJGCEaGU\n",
      "r_E0Tzi1ExY\n",
      "S-TkriivUOY\n",
      "sC2N9jzSW3M\n",
      "sHr2Zh8eaP0\n",
      "SIphCdLgaas\n",
      "SJ25UiZMwmc\n",
      "sOTodwgB5cg\n",
      "ssb7Gep7G04\n",
      "T5VLp3BEMW0\n",
      "Tet-imZi96U\n",
      "tiDUXnnAhxU\n",
      "tjgFps8i2MY\n",
      "tlHYhC5bsi0\n",
      "tU9njwEXHEs\n",
      "twn-TQMNibI\n",
      "u0Ta1jmc6ME\n",
      "ubAjAHoj92k\n",
      "ULKmE7biqRM\n",
      "un5OHf3LZkI\n",
      "v4GfCi_Na6s\n",
      "VaiCqAYpQdc\n",
      "VDaxj1pfsa4\n",
      "VE0o7r9_rC4\n",
      "VKKRAaplVog\n",
      "vrgHVqseu7s\n",
      "vvFa7nX1RjQ\n",
      "VWd_KSSDweU\n",
      "Vyyv5sh2gl8\n",
      "V_1F0cF15NI\n",
      "w41OrOyE544\n",
      "w667ATD8GFg\n",
      "w6snSRPDJGU\n",
      "wELfRsGEyLY\n",
      "wGmyHB83tOI\n",
      "Whpb9jj9n64\n",
      "wKVfjrFcfaM\n",
      "wluxNLf1V1s\n",
      "wnAoJlv0XnE\n",
      "Wo5LQsE1m4g\n",
      "w_BaFQjcMq4\n",
      "x11r5OW6ja0\n",
      "Xa-U3o8FFxM\n",
      "XF7uqmn2rtY\n",
      "xmLGqG-vSRk\n",
      "xOm3jTmEnbE\n",
      "xoYapH-7WUI\n",
      "xX2LoILY3Hw\n",
      "xxSYgxinp98\n",
      "xyfSSLcRnig\n",
      "xyMVpznbwIY\n",
      "XZMzd7306Vs\n",
      "Y23hwsB5D9I\n",
      "y6tN8Tu6XFg\n",
      "yAIyYGnEbtY\n",
      "yaKkEz0OcQI\n",
      "yBujtwlNWpw\n",
      "yC8jMEyZSeo\n",
      "YfmmUdrd8hs\n",
      "YFuIL1gwzv4\n",
      "yR2ysmfCXW8\n",
      "YXlp7wt3Qhc\n",
      "z02RkI_iW3A\n",
      "ZcCfWmrVQfM\n",
      "zd5e1nQPZg0\n",
      "ZdF60xZOGq8\n",
      "zdgnBz-UXDE\n",
      "zFvbY4NoAjY\n",
      "zgBPn7mAIs8\n",
      "zwMb0iIUYQc\n",
      "_3QjGPeLuw0\n",
      "_bctOzNgKK4\n",
      "_innWbJFMGQ\n",
      "_Xy_f9h-EKA\n"
     ]
    }
   ],
   "source": [
    "for name in video_csv[\"video_id\"]:\n",
    "    print(name)\n",
    "    entry=js[name]\n",
    "    entry.to_json(\"././caption_json/\"+name+\".json\")"
   ],
   "metadata": {
    "collapsed": false,
    "pycharm": {
     "name": "#%%\n"
    }
   }
  },
  {
   "cell_type": "code",
   "execution_count": null,
   "outputs": [],
   "source": [],
   "metadata": {
    "collapsed": false,
    "pycharm": {
     "name": "#%%\n"
    }
   }
  }
 ],
 "metadata": {
  "kernelspec": {
   "display_name": "Python 3",
   "language": "python",
   "name": "python3"
  },
  "language_info": {
   "codemirror_mode": {
    "name": "ipython",
    "version": 2
   },
   "file_extension": ".py",
   "mimetype": "text/x-python",
   "name": "python",
   "nbconvert_exporter": "python",
   "pygments_lexer": "ipython2",
   "version": "2.7.6"
  }
 },
 "nbformat": 4,
 "nbformat_minor": 0
}